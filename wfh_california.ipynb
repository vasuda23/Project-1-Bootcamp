{
 "cells": [
  {
   "cell_type": "code",
   "execution_count": 166,
   "metadata": {
    "scrolled": true
   },
   "outputs": [
    {
     "name": "stdout",
     "output_type": "stream",
     "text": [
      "Hypothesis:\n",
      "\n",
      "\n",
      "How people are reacting working from home in California:\n"
     ]
    }
   ],
   "source": [
    "print(\"Hypothesis:\\n\\n\")\n",
    "print('How people are reacting working from home in California:')"
   ]
  },
  {
   "cell_type": "code",
   "execution_count": 167,
   "metadata": {},
   "outputs": [],
   "source": [
    "import tweepy\n",
    "from tweepy.streaming import StreamListener\n",
    "from tweepy import OAuthHandler\n",
    "from tweepy import Stream\n",
    "import json\n",
    "import pandas as pd\n",
    "import matplotlib.pyplot as plt\n",
    "from apscheduler.schedulers.blocking import BlockingScheduler\n",
    "from textblob import TextBlob"
   ]
  },
  {
   "cell_type": "code",
   "execution_count": 168,
   "metadata": {},
   "outputs": [],
   "source": [
    "access_token = \"Enter Your Key\"\n",
    "access_token_secret = \"Enter Your Key\"\n",
    "consumer_key = \"Enter Your Key\"\n",
    "consumer_secret = \"Enter Your Key\"\n",
    "var = tweepy.OAuthHandler(consumer_key, consumer_secret)\n",
    "var.set_access_token(access_token, access_token_secret)\n",
    "api = tweepy.API(var,wait_on_rate_limit=True)"
   ]
  },
  {
   "cell_type": "code",
   "execution_count": 169,
   "metadata": {},
   "outputs": [
    {
     "name": "stdout",
     "output_type": "stream",
     "text": [
      "Figuring out the sentiments of people about working from home. Using textBlob for finding if tweets about working from home are positive or negative. For this I am calculating total number of tweets collected and tweets which are showing positive and negative sentiments and removing all the neutral values.\n"
     ]
    }
   ],
   "source": [
    "print(\"Figuring out the sentiments of people about working from home. Using textBlob for finding if tweets about working from home are positive or negative. For this I am calculating total number of tweets collected and tweets which are showing positive and negative sentiments and removing all the neutral values.\")"
   ]
  },
  {
   "cell_type": "code",
   "execution_count": null,
   "metadata": {},
   "outputs": [
    {
     "name": "stdout",
     "output_type": "stream",
     "text": [
      "Fetching data from api For California\n",
      "Data fetched\n",
      "Begning to parse data for sentiment analysis\n",
      "0.22094564737074682% done\n",
      "0.44189129474149363% done\n",
      "0.6628369421122404% done\n",
      "0.8837825894829873% done\n",
      "1.104728236853734% done\n",
      "1.3256738842244808% done\n",
      "1.5466195315952276% done\n",
      "1.7675651789659745% done\n",
      "1.9885108263367213% done\n",
      "2.209456473707468% done\n",
      "2.4304021210782145% done\n",
      "2.6513477684489617% done\n",
      "2.8722934158197084% done\n",
      "3.093239063190455% done\n",
      "3.314184710561202% done\n",
      "3.535130357931949% done\n",
      "3.756076005302696% done\n",
      "3.9770216526734425% done\n",
      "4.197967300044189% done\n",
      "4.418912947414936% done\n",
      "4.639858594785682% done\n",
      "4.860804242156429% done\n",
      "5.081749889527176% done\n",
      "5.302695536897923% done\n",
      "5.52364118426867% done\n",
      "5.744586831639417% done\n",
      "5.965532479010164% done\n",
      "6.18647812638091% done\n",
      "6.407423773751657% done\n",
      "6.628369421122404% done\n",
      "6.8493150684931505% done\n",
      "7.070260715863898% done\n",
      "7.291206363234644% done\n",
      "7.512152010605392% done\n",
      "7.7330976579761375% done\n",
      "7.954043305346885% done\n",
      "8.17498895271763% done\n",
      "8.395934600088378% done\n",
      "8.616880247459125% done\n",
      "8.837825894829871% done\n",
      "9.058771542200619% done\n",
      "9.279717189571365% done\n",
      "9.500662836942112% done\n",
      "9.721608484312858% done\n",
      "9.942554131683606% done\n",
      "10.163499779054352% done\n",
      "10.3844454264251% done\n",
      "10.605391073795847% done\n",
      "10.826336721166593% done\n",
      "11.04728236853734% done\n",
      "11.268228015908086% done\n",
      "11.489173663278834% done\n",
      "11.710119310649581% done\n",
      "11.931064958020327% done\n",
      "12.152010605391075% done\n",
      "12.37295625276182% done\n",
      "12.593901900132568% done\n",
      "12.814847547503314% done\n",
      "13.03579319487406% done\n",
      "13.256738842244808% done\n",
      "13.477684489615555% done\n",
      "13.698630136986301% done\n",
      "13.919575784357049% done\n",
      "14.140521431727796% done\n",
      "14.361467079098542% done\n",
      "14.582412726469288% done\n",
      "14.803358373840037% done\n",
      "15.024304021210783% done\n",
      "15.245249668581529% done\n",
      "15.466195315952275% done\n",
      "15.687140963323024% done\n",
      "15.90808661069377% done\n",
      "16.129032258064516% done\n",
      "16.34997790543526% done\n",
      "16.57092355280601% done\n",
      "16.791869200176755% done\n",
      "17.012814847547503% done\n",
      "17.23376049491825% done\n",
      "17.454706142288998% done\n",
      "17.675651789659742% done\n",
      "17.89659743703049% done\n",
      "18.117543084401238% done\n",
      "18.338488731771985% done\n",
      "18.55943437914273% done\n",
      "18.780380026513477% done\n",
      "19.001325673884224% done\n",
      "19.222271321254972% done\n",
      "19.443216968625716% done\n",
      "19.664162615996464% done\n",
      "19.88510826336721% done\n",
      "20.10605391073796% done\n",
      "20.326999558108703% done\n",
      "20.54794520547945% done\n",
      "20.7688908528502% done\n",
      "20.989836500220946% done\n",
      "21.210782147591694% done\n",
      "21.431727794962438% done\n",
      "21.652673442333185% done\n",
      "21.873619089703933% done\n",
      "22.09456473707468% done\n",
      "22.315510384445428% done\n",
      "22.536456031816172% done\n",
      "22.75740167918692% done\n",
      "22.978347326557667% done\n",
      "23.199292973928415% done\n",
      "23.420238621299163% done\n",
      "23.641184268669907% done\n",
      "23.862129916040654% done\n",
      "24.083075563411402% done\n",
      "24.30402121078215% done\n",
      "24.524966858152894% done\n",
      "24.74591250552364% done\n",
      "24.96685815289439% done\n",
      "25.187803800265137% done\n",
      "25.40874944763588% done\n",
      "25.62969509500663% done\n",
      "25.850640742377372% done\n",
      "26.07158638974812% done\n",
      "26.29253203711887% done\n",
      "26.513477684489615% done\n",
      "26.734423331860363% done\n",
      "26.95536897923111% done\n",
      "27.176314626601854% done\n",
      "27.397260273972602% done\n",
      "27.618205921343346% done\n",
      "27.839151568714097% done\n",
      "28.060097216084845% done\n",
      "28.281042863455593% done\n",
      "28.501988510826337% done\n",
      "28.722934158197084% done\n",
      "28.94387980556783% done\n",
      "29.164825452938576% done\n",
      "29.38577110030932% done\n",
      "29.606716747680075% done\n",
      "29.82766239505082% done\n",
      "30.048608042421566% done\n",
      "30.26955368979231% done\n",
      "30.490499337163058% done\n",
      "30.711444984533802% done\n",
      "30.93239063190455% done\n",
      "31.1533362792753% done\n",
      "31.37428192664605% done\n",
      "31.595227574016793% done\n",
      "31.81617322138754% done\n",
      "32.037118868758284% done\n",
      "32.25806451612903% done\n",
      "32.47901016349978% done\n",
      "32.69995581087052% done\n",
      "32.920901458241275% done\n",
      "33.14184710561202% done\n",
      "33.36279275298277% done\n",
      "33.58373840035351% done\n",
      "33.80468404772426% done\n",
      "34.025629695095006% done\n",
      "34.24657534246575% done\n",
      "34.4675209898365% done\n",
      "34.68846663720725% done\n",
      "34.909412284577996% done\n",
      "35.130357931948744% done\n",
      "35.351303579319485% done\n",
      "35.57224922669023% done\n",
      "35.79319487406098% done\n",
      "36.01414052143173% done\n",
      "36.235086168802475% done\n",
      "36.45603181617322% done\n",
      "36.67697746354397% done\n",
      "36.89792311091472% done\n",
      "37.11886875828546% done\n",
      "37.339814405656206% done\n",
      "37.560760053026954% done\n",
      "37.7817057003977% done\n",
      "38.00265134776845% done\n",
      "38.2235969951392% done\n",
      "38.444542642509944% done\n",
      "38.66548828988069% done\n",
      "38.88643393725143% done\n",
      "39.10737958462218% done\n",
      "39.32832523199293% done\n",
      "39.549270879363675% done\n",
      "39.77021652673442% done\n",
      "39.99116217410517% done\n",
      "40.21210782147592% done\n",
      "40.433053468846666% done\n",
      "40.653999116217406% done\n",
      "40.874944763588154% done\n",
      "41.0958904109589% done\n",
      "41.316836058329656% done\n",
      "41.5377817057004% done\n",
      "41.758727353071144% done\n",
      "41.97967300044189% done\n",
      "42.20061864781264% done\n",
      "42.42156429518339% done\n",
      "42.64250994255413% done\n",
      "42.863455589924875% done\n",
      "43.08440123729563% done\n",
      "43.30534688466637% done\n",
      "43.52629253203712% done\n",
      "43.747238179407866% done\n",
      "43.96818382677861% done\n",
      "44.18912947414936% done\n",
      "44.4100751215201% done\n",
      "44.631020768890856% done\n",
      "44.851966416261604% done\n",
      "45.072912063632344% done\n",
      "45.29385771100309% done\n",
      "45.51480335837384% done\n",
      "45.73574900574459% done\n",
      "45.956694653115335% done\n",
      "46.177640300486075% done\n",
      "46.39858594785683% done\n",
      "46.61953159522758% done\n",
      "46.840477242598325% done\n",
      "47.061422889969066% done\n",
      "47.28236853733981% done\n",
      "47.50331418471056% done\n",
      "47.72425983208131% done\n",
      "47.94520547945205% done\n",
      "48.166151126822804% done\n",
      "48.38709677419355% done\n",
      "48.6080424215643% done\n",
      "48.82898806893504% done\n",
      "49.04993371630579% done\n",
      "49.270879363676535% done\n",
      "49.49182501104728% done\n",
      "49.71277065841803% done\n",
      "49.93371630578878% done\n",
      "50.15466195315952% done\n",
      "50.37560760053027% done\n",
      "50.59655324790102% done\n",
      "50.81749889527176% done\n",
      "51.038444542642516% done\n",
      "51.25939019001326% done\n",
      "51.480335837384004% done\n",
      "51.701281484754745% done\n",
      "51.9222271321255% done\n",
      "52.14317277949624% done\n",
      "52.36411842686699% done\n",
      "52.58506407423774% done\n",
      "52.80600972160848% done\n",
      "53.02695536897923% done\n",
      "53.24790101634997% done\n",
      "53.468846663720726% done\n",
      "53.689792311091466% done\n",
      "53.91073795846222% done\n",
      "54.13168360583297% done\n",
      "54.35262925320371% done\n",
      "54.573574900574464% done\n",
      "54.794520547945204% done\n",
      "55.01546619531595% done\n",
      "55.23641184268669% done\n",
      "55.45735749005745% done\n",
      "55.678303137428195% done\n",
      "55.899248784798935% done\n",
      "56.12019443216969% done\n",
      "56.34114007954043% done\n",
      "56.562085726911185% done\n",
      "56.783031374281926% done\n",
      "57.00397702165267% done\n",
      "57.224922669023414% done\n",
      "57.44586831639417% done\n",
      "57.666813963764916% done\n",
      "57.88775961113566% done\n",
      "58.10870525850641% done\n"
     ]
    }
   ],
   "source": [
    "total_tweet = []\n",
    "cnt_sentiment_cal = []\n",
    "\n",
    "count1 = 0\n",
    "\n",
    "try :\n",
    "\n",
    "    query = ['Wfh -filter:retweets']\n",
    "    max_tweets = 4526\n",
    "\n",
    "    print(\"Fetching data from api For California\")\n",
    "    tweets = tweepy.Cursor(api.search,q=query,language='en',geocode = \"31.578871,74.305184,5000mi\").items(max_tweets)\n",
    "    print(\"Data fetched\")\n",
    "\n",
    "    print(\"Begning to parse data for sentiment analysis\")\n",
    "    for tweet in tweets:   \n",
    "   \n",
    "            total_tweet.append({\"text\":tweet.text,\"created_at\":tweet.created_at.strftime(\"%x\")})\n",
    "            count1=count1+1\n",
    "    \n",
    "            if(count1 % 10 == 0):\n",
    "                print(str((count1/max_tweets)*100)+\"% done\" )\n",
    "   \n",
    "                analysis = TextBlob(tweet.text)\n",
    "            if analysis.sentiment[0]>0:\n",
    "                cnt_sentiment_cal.append({\"text\":tweet.text,\"Sentiment\":\"positive\",\"created_at\":tweet.created_at.strftime(\"%m-%d\")})\n",
    "        \n",
    "            elif analysis.sentiment[0]< 0:\n",
    "                 cnt_sentiment_cal.append({\"text\":tweet.text,\"Sentiment\":\"negative\",\"created_at\":tweet.created_at.strftime(\"%m-%d\")})\n",
    "\n",
    "except:\n",
    "    print(\"Error in fetching data\")\n",
    "\n",
    "finally:\n",
    "    print(\"Completing process\")"
   ]
  },
  {
   "cell_type": "code",
   "execution_count": 187,
   "metadata": {},
   "outputs": [
    {
     "name": "stdout",
     "output_type": "stream",
     "text": [
      "Total number of tweets working from home in California: 4526\n",
      "Total number of sentiment tweets which are negative and positive :2380\n"
     ]
    }
   ],
   "source": [
    "print(\"Total number of tweets working from home in California: \"+ str(count1))\n",
    "print(\"Total number of sentiment tweets which are negative and positive :\"+ str(len(cnt_sentiment_cal)))"
   ]
  },
  {
   "cell_type": "code",
   "execution_count": 205,
   "metadata": {},
   "outputs": [
    {
     "name": "stdout",
     "output_type": "stream",
     "text": [
      "Using pandas to clean the tweets collected and to create data frame. \n"
     ]
    }
   ],
   "source": [
    "print('Using pandas to clean the tweets collected and to create data frame. ')"
   ]
  },
  {
   "cell_type": "code",
   "execution_count": 206,
   "metadata": {
    "scrolled": true
   },
   "outputs": [
    {
     "data": {
      "text/html": [
       "<div>\n",
       "<style scoped>\n",
       "    .dataframe tbody tr th:only-of-type {\n",
       "        vertical-align: middle;\n",
       "    }\n",
       "\n",
       "    .dataframe tbody tr th {\n",
       "        vertical-align: top;\n",
       "    }\n",
       "\n",
       "    .dataframe thead th {\n",
       "        text-align: right;\n",
       "    }\n",
       "</style>\n",
       "<table border=\"1\" class=\"dataframe\">\n",
       "  <thead>\n",
       "    <tr style=\"text-align: right;\">\n",
       "      <th></th>\n",
       "      <th>text</th>\n",
       "      <th>Sentiment</th>\n",
       "      <th>created_at</th>\n",
       "    </tr>\n",
       "  </thead>\n",
       "  <tbody>\n",
       "    <tr>\n",
       "      <th>0</th>\n",
       "      <td>RT @tseenster: Would particularly welcome coll...</td>\n",
       "      <td>positive</td>\n",
       "      <td>04-27</td>\n",
       "    </tr>\n",
       "    <tr>\n",
       "      <th>1</th>\n",
       "      <td>Beating WFH burnout https://t.co/wJXKwvepfZ</td>\n",
       "      <td>positive</td>\n",
       "      <td>04-27</td>\n",
       "    </tr>\n",
       "    <tr>\n",
       "      <th>2</th>\n",
       "      <td>RT @tseenster: #WFH tweetchat starting in abou...</td>\n",
       "      <td>positive</td>\n",
       "      <td>04-27</td>\n",
       "    </tr>\n",
       "    <tr>\n",
       "      <th>3</th>\n",
       "      <td>#WFH tweetchat starting in about 25 mins, peep...</td>\n",
       "      <td>positive</td>\n",
       "      <td>04-27</td>\n",
       "    </tr>\n",
       "    <tr>\n",
       "      <th>4</th>\n",
       "      <td>@Diff_View @greatbong Yes, WFH will evolve. It...</td>\n",
       "      <td>positive</td>\n",
       "      <td>04-27</td>\n",
       "    </tr>\n",
       "  </tbody>\n",
       "</table>\n",
       "</div>"
      ],
      "text/plain": [
       "                                                text Sentiment created_at\n",
       "0  RT @tseenster: Would particularly welcome coll...  positive      04-27\n",
       "1        Beating WFH burnout https://t.co/wJXKwvepfZ  positive      04-27\n",
       "2  RT @tseenster: #WFH tweetchat starting in abou...  positive      04-27\n",
       "3  #WFH tweetchat starting in about 25 mins, peep...  positive      04-27\n",
       "4  @Diff_View @greatbong Yes, WFH will evolve. It...  positive      04-27"
      ]
     },
     "execution_count": 206,
     "metadata": {},
     "output_type": "execute_result"
    }
   ],
   "source": [
    "data_pd=pd.DataFrame(cnt_sentiment_cal)\n",
    "data_pd=data_pd[[\"text\", \"Sentiment\",\"created_at\"]]\n",
    "data_pd.head(5)"
   ]
  },
  {
   "cell_type": "code",
   "execution_count": 207,
   "metadata": {},
   "outputs": [],
   "source": [
    "data_pd.to_csv(\"tweet_data.csv\") #Storing data to csv"
   ]
  },
  {
   "cell_type": "code",
   "execution_count": 208,
   "metadata": {},
   "outputs": [
    {
     "data": {
      "text/html": [
       "<div>\n",
       "<style scoped>\n",
       "    .dataframe tbody tr th:only-of-type {\n",
       "        vertical-align: middle;\n",
       "    }\n",
       "\n",
       "    .dataframe tbody tr th {\n",
       "        vertical-align: top;\n",
       "    }\n",
       "\n",
       "    .dataframe thead th {\n",
       "        text-align: right;\n",
       "    }\n",
       "</style>\n",
       "<table border=\"1\" class=\"dataframe\">\n",
       "  <thead>\n",
       "    <tr style=\"text-align: right;\">\n",
       "      <th></th>\n",
       "      <th>Unnamed: 0</th>\n",
       "      <th>text</th>\n",
       "      <th>Sentiment</th>\n",
       "      <th>created_at</th>\n",
       "    </tr>\n",
       "  </thead>\n",
       "  <tbody>\n",
       "    <tr>\n",
       "      <th>0</th>\n",
       "      <td>0</td>\n",
       "      <td>RT @tseenster: Would particularly welcome coll...</td>\n",
       "      <td>positive</td>\n",
       "      <td>04-27</td>\n",
       "    </tr>\n",
       "    <tr>\n",
       "      <th>1</th>\n",
       "      <td>1</td>\n",
       "      <td>Beating WFH burnout https://t.co/wJXKwvepfZ</td>\n",
       "      <td>positive</td>\n",
       "      <td>04-27</td>\n",
       "    </tr>\n",
       "    <tr>\n",
       "      <th>2</th>\n",
       "      <td>2</td>\n",
       "      <td>RT @tseenster: #WFH tweetchat starting in abou...</td>\n",
       "      <td>positive</td>\n",
       "      <td>04-27</td>\n",
       "    </tr>\n",
       "    <tr>\n",
       "      <th>3</th>\n",
       "      <td>3</td>\n",
       "      <td>#WFH tweetchat starting in about 25 mins, peep...</td>\n",
       "      <td>positive</td>\n",
       "      <td>04-27</td>\n",
       "    </tr>\n",
       "    <tr>\n",
       "      <th>4</th>\n",
       "      <td>4</td>\n",
       "      <td>@Diff_View @greatbong Yes, WFH will evolve. It...</td>\n",
       "      <td>positive</td>\n",
       "      <td>04-27</td>\n",
       "    </tr>\n",
       "    <tr>\n",
       "      <th>5</th>\n",
       "      <td>5</td>\n",
       "      <td>Jurassic Park Star Reveals the One Thing You N...</td>\n",
       "      <td>positive</td>\n",
       "      <td>04-27</td>\n",
       "    </tr>\n",
       "    <tr>\n",
       "      <th>6</th>\n",
       "      <td>6</td>\n",
       "      <td>RT @DynamicCIO: Work from home tips from the e...</td>\n",
       "      <td>positive</td>\n",
       "      <td>04-27</td>\n",
       "    </tr>\n",
       "    <tr>\n",
       "      <th>7</th>\n",
       "      <td>7</td>\n",
       "      <td>RT @RamendraVerma1: With WFH becoming a new no...</td>\n",
       "      <td>positive</td>\n",
       "      <td>04-27</td>\n",
       "    </tr>\n",
       "    <tr>\n",
       "      <th>8</th>\n",
       "      <td>8</td>\n",
       "      <td>RT @tseenster: Would particularly welcome coll...</td>\n",
       "      <td>positive</td>\n",
       "      <td>04-27</td>\n",
       "    </tr>\n",
       "    <tr>\n",
       "      <th>9</th>\n",
       "      <td>9</td>\n",
       "      <td>With WFH becoming a new normal, companies can ...</td>\n",
       "      <td>positive</td>\n",
       "      <td>04-27</td>\n",
       "    </tr>\n",
       "  </tbody>\n",
       "</table>\n",
       "</div>"
      ],
      "text/plain": [
       "   Unnamed: 0                                               text Sentiment  \\\n",
       "0           0  RT @tseenster: Would particularly welcome coll...  positive   \n",
       "1           1        Beating WFH burnout https://t.co/wJXKwvepfZ  positive   \n",
       "2           2  RT @tseenster: #WFH tweetchat starting in abou...  positive   \n",
       "3           3  #WFH tweetchat starting in about 25 mins, peep...  positive   \n",
       "4           4  @Diff_View @greatbong Yes, WFH will evolve. It...  positive   \n",
       "5           5  Jurassic Park Star Reveals the One Thing You N...  positive   \n",
       "6           6  RT @DynamicCIO: Work from home tips from the e...  positive   \n",
       "7           7  RT @RamendraVerma1: With WFH becoming a new no...  positive   \n",
       "8           8  RT @tseenster: Would particularly welcome coll...  positive   \n",
       "9           9  With WFH becoming a new normal, companies can ...  positive   \n",
       "\n",
       "  created_at  \n",
       "0      04-27  \n",
       "1      04-27  \n",
       "2      04-27  \n",
       "3      04-27  \n",
       "4      04-27  \n",
       "5      04-27  \n",
       "6      04-27  \n",
       "7      04-27  \n",
       "8      04-27  \n",
       "9      04-27  "
      ]
     },
     "execution_count": 208,
     "metadata": {},
     "output_type": "execute_result"
    }
   ],
   "source": [
    "data_pd = pd.read_csv(\"tweet_data.csv\") #Read file\n",
    "data_pd.head(10) #Reading data from csv"
   ]
  },
  {
   "cell_type": "code",
   "execution_count": 209,
   "metadata": {},
   "outputs": [
    {
     "name": "stdout",
     "output_type": "stream",
     "text": [
      "Total number of positive tweets and total number of negative tweets from the sentiment data in csv.\n"
     ]
    },
    {
     "data": {
      "text/html": [
       "<div>\n",
       "<style scoped>\n",
       "    .dataframe tbody tr th:only-of-type {\n",
       "        vertical-align: middle;\n",
       "    }\n",
       "\n",
       "    .dataframe tbody tr th {\n",
       "        vertical-align: top;\n",
       "    }\n",
       "\n",
       "    .dataframe thead th {\n",
       "        text-align: right;\n",
       "    }\n",
       "</style>\n",
       "<table border=\"1\" class=\"dataframe\">\n",
       "  <thead>\n",
       "    <tr style=\"text-align: right;\">\n",
       "      <th></th>\n",
       "      <th>Sentiment</th>\n",
       "      <th>Count</th>\n",
       "    </tr>\n",
       "  </thead>\n",
       "  <tbody>\n",
       "    <tr>\n",
       "      <th>0</th>\n",
       "      <td>negative</td>\n",
       "      <td>490</td>\n",
       "    </tr>\n",
       "    <tr>\n",
       "      <th>1</th>\n",
       "      <td>positive</td>\n",
       "      <td>1890</td>\n",
       "    </tr>\n",
       "  </tbody>\n",
       "</table>\n",
       "</div>"
      ],
      "text/plain": [
       "  Sentiment  Count\n",
       "0  negative    490\n",
       "1  positive   1890"
      ]
     },
     "execution_count": 209,
     "metadata": {},
     "output_type": "execute_result"
    }
   ],
   "source": [
    "print('Total number of positive tweets and total number of negative tweets from the sentiment data in csv.')\n",
    "sentiment_data=cnt_sentiment_cal\n",
    "grouped_data = pd.DataFrame(data_pd.groupby([\"Sentiment\"])[\"created_at\"].count()).reset_index()\n",
    "grouped_data.rename(columns = {'created_at': 'Count'}, inplace = True)\n",
    "grouped_data.head()"
   ]
  },
  {
   "cell_type": "code",
   "execution_count": 210,
   "metadata": {},
   "outputs": [
    {
     "name": "stdout",
     "output_type": "stream",
     "text": [
      "Bar graph to show positive and negative tweets collected in California to record the sentiment of people who are either happy  or sad about working from home\n"
     ]
    },
    {
     "data": {
      "image/png": "[encoded data removed]",
      "text/plain": [
       "<Figure size 432x288 with 1 Axes>"
      ]
     },
     "metadata": {},
     "output_type": "display_data"
    }
   ],
   "source": [
    "print(\"Bar graph to show positive and negative tweets collected in California to record the sentiment of people who are either happy  or sad about working from home\")\n",
    "#Filter the DataFrame down only to those columns to chart\n",
    "bar_plot_data = grouped_data[[\"Sentiment\",\"Count\"]]\n",
    "bar_plot_data = bar_plot_data.set_index(\"Sentiment\")\n",
    "\n",
    "# Use DataFrame.plot() in order to create a bar chart of the data\n",
    "bar_plot_data.plot(kind=\"bar\")\n",
    "plt.title(\"Bar\")\n",
    "plt.ylabel(\"Count\")\n",
    "plt.xlabel(\"Sentiment\")\n",
    "\n",
    "plt.savefig(\"Bar_Count_Positive_Negative_WFH.png\")\n",
    "plt.show()"
   ]
  },
  {
   "cell_type": "code",
   "execution_count": 211,
   "metadata": {},
   "outputs": [
    {
     "name": "stdout",
     "output_type": "stream",
     "text": [
      "Pie chart to show positive and negative tweets about working from home in California: \n",
      " \n",
      "\n",
      "Percentage of Negative tweets: 20.58823529411765 %\n",
      "Percentage of Positive tweets: 79.41176470588235 %\n",
      "\n",
      " \n",
      "Pie Chart :\n"
     ]
    },
    {
     "data": {
      "image/png": "[encoded data removed]",
      "text/plain": [
       "<Figure size 432x288 with 1 Axes>"
      ]
     },
     "metadata": {},
     "output_type": "display_data"
    }
   ],
   "source": [
    "print('Pie chart to show positive and negative tweets about working from home in California: \\n \\n')\n",
    "sentiment_count = (data_pd.groupby([\"Sentiment\"])[\"created_at\"].count()).tolist()\n",
    "labels = [\"Negative\", \"Positive\"]\n",
    "colors = [ \"blue\",\"orange\"]\n",
    "plt.pie(sentiment_count,autopct=\"%1.1f%%\",labels=labels)\n",
    "\n",
    "labels = ['Orange - positive', 'Blue negative']\n",
    "\n",
    "\n",
    "positive_percent=(sentiment_count[0]*100)/(sentiment_count[0]+sentiment_count[1])\n",
    "\n",
    "print(\"Percentage of Negative tweets: \"+ str(positive_percent) +\" %\")\n",
    "print(\"Percentage of Positive tweets: \"+str((sentiment_count[1]*100)/(sentiment_count[0]+sentiment_count[1]))+(\" %\"))\n",
    "print(\"\\n \\nPie Chart :\")\n",
    "plt.savefig(\"PieChart_Positive_Negative_WFH.png\")"
   ]
  },
  {
   "cell_type": "code",
   "execution_count": 212,
   "metadata": {},
   "outputs": [
    {
     "name": "stdout",
     "output_type": "stream",
     "text": [
      "Analysis 1: To show how people are positive or negative working from home \n",
      "\n",
      "More people are positive about working from home in California. Pie graph and Bar graph shows how. \n"
     ]
    }
   ],
   "source": [
    "print(\"Analysis 1: To show how people are positive or negative working from home \\n\")\n",
    "print('More people are positive about working from home in California. Pie graph and Bar graph shows how. ')"
   ]
  },
  {
   "cell_type": "code",
   "execution_count": 213,
   "metadata": {},
   "outputs": [
    {
     "name": "stdout",
     "output_type": "stream",
     "text": [
      "Total number of people positive and negative working from home based on dates.\n",
      " \n",
      "\n"
     ]
    },
    {
     "data": {
      "text/html": [
       "<div>\n",
       "<style scoped>\n",
       "    .dataframe tbody tr th:only-of-type {\n",
       "        vertical-align: middle;\n",
       "    }\n",
       "\n",
       "    .dataframe tbody tr th {\n",
       "        vertical-align: top;\n",
       "    }\n",
       "\n",
       "    .dataframe thead th {\n",
       "        text-align: right;\n",
       "    }\n",
       "</style>\n",
       "<table border=\"1\" class=\"dataframe\">\n",
       "  <thead>\n",
       "    <tr style=\"text-align: right;\">\n",
       "      <th></th>\n",
       "      <th>created_at</th>\n",
       "      <th>Sentiment</th>\n",
       "      <th>Unnamed: 0</th>\n",
       "      <th>Count</th>\n",
       "    </tr>\n",
       "  </thead>\n",
       "  <tbody>\n",
       "    <tr>\n",
       "      <th>0</th>\n",
       "      <td>04-19</td>\n",
       "      <td>negative</td>\n",
       "      <td>12</td>\n",
       "      <td>12</td>\n",
       "    </tr>\n",
       "    <tr>\n",
       "      <th>1</th>\n",
       "      <td>04-19</td>\n",
       "      <td>positive</td>\n",
       "      <td>30</td>\n",
       "      <td>30</td>\n",
       "    </tr>\n",
       "    <tr>\n",
       "      <th>2</th>\n",
       "      <td>04-20</td>\n",
       "      <td>negative</td>\n",
       "      <td>108</td>\n",
       "      <td>108</td>\n",
       "    </tr>\n",
       "    <tr>\n",
       "      <th>3</th>\n",
       "      <td>04-20</td>\n",
       "      <td>positive</td>\n",
       "      <td>221</td>\n",
       "      <td>221</td>\n",
       "    </tr>\n",
       "    <tr>\n",
       "      <th>4</th>\n",
       "      <td>04-21</td>\n",
       "      <td>negative</td>\n",
       "      <td>50</td>\n",
       "      <td>50</td>\n",
       "    </tr>\n",
       "  </tbody>\n",
       "</table>\n",
       "</div>"
      ],
      "text/plain": [
       "  created_at Sentiment  Unnamed: 0  Count\n",
       "0      04-19  negative          12     12\n",
       "1      04-19  positive          30     30\n",
       "2      04-20  negative         108    108\n",
       "3      04-20  positive         221    221\n",
       "4      04-21  negative          50     50"
      ]
     },
     "execution_count": 213,
     "metadata": {},
     "output_type": "execute_result"
    }
   ],
   "source": [
    "print(\"Total number of people positive and negative working from home based on dates.\\n \\n\")\n",
    "twitter_date = pd.DataFrame(data_pd.groupby([\"created_at\",\"Sentiment\"]).count()).reset_index()\n",
    "twitter_date.rename(columns = {'text': 'Count'}, inplace = True)\n",
    "twitter_date.sort_values(by=['created_at'])\n",
    "\n",
    "twitter_date.head()"
   ]
  },
  {
   "cell_type": "code",
   "execution_count": 214,
   "metadata": {},
   "outputs": [
    {
     "name": "stdout",
     "output_type": "stream",
     "text": [
      "Using group by to seprate positive and negative people about working from home based on dates:\n"
     ]
    },
    {
     "data": {
      "text/html": [
       "<div>\n",
       "<style scoped>\n",
       "    .dataframe tbody tr th:only-of-type {\n",
       "        vertical-align: middle;\n",
       "    }\n",
       "\n",
       "    .dataframe tbody tr th {\n",
       "        vertical-align: top;\n",
       "    }\n",
       "\n",
       "    .dataframe thead th {\n",
       "        text-align: right;\n",
       "    }\n",
       "</style>\n",
       "<table border=\"1\" class=\"dataframe\">\n",
       "  <thead>\n",
       "    <tr style=\"text-align: right;\">\n",
       "      <th></th>\n",
       "      <th>created_at</th>\n",
       "      <th>Sentiment</th>\n",
       "      <th>Unnamed: 0</th>\n",
       "      <th>Count</th>\n",
       "    </tr>\n",
       "  </thead>\n",
       "  <tbody>\n",
       "    <tr>\n",
       "      <th>0</th>\n",
       "      <td>04-19</td>\n",
       "      <td>negative</td>\n",
       "      <td>12</td>\n",
       "      <td>12</td>\n",
       "    </tr>\n",
       "    <tr>\n",
       "      <th>2</th>\n",
       "      <td>04-20</td>\n",
       "      <td>negative</td>\n",
       "      <td>108</td>\n",
       "      <td>108</td>\n",
       "    </tr>\n",
       "    <tr>\n",
       "      <th>4</th>\n",
       "      <td>04-21</td>\n",
       "      <td>negative</td>\n",
       "      <td>50</td>\n",
       "      <td>50</td>\n",
       "    </tr>\n",
       "    <tr>\n",
       "      <th>6</th>\n",
       "      <td>04-22</td>\n",
       "      <td>negative</td>\n",
       "      <td>100</td>\n",
       "      <td>100</td>\n",
       "    </tr>\n",
       "    <tr>\n",
       "      <th>8</th>\n",
       "      <td>04-23</td>\n",
       "      <td>negative</td>\n",
       "      <td>20</td>\n",
       "      <td>20</td>\n",
       "    </tr>\n",
       "  </tbody>\n",
       "</table>\n",
       "</div>"
      ],
      "text/plain": [
       "  created_at Sentiment  Unnamed: 0  Count\n",
       "0      04-19  negative          12     12\n",
       "2      04-20  negative         108    108\n",
       "4      04-21  negative          50     50\n",
       "6      04-22  negative         100    100\n",
       "8      04-23  negative          20     20"
      ]
     },
     "execution_count": 214,
     "metadata": {},
     "output_type": "execute_result"
    }
   ],
   "source": [
    "print(\"Using group by to seprate positive and negative people about working from home based on dates:\")\n",
    "df1, df2 = [a for _, a in twitter_date.groupby(twitter_date['Sentiment'] != 'negative')]\n",
    "df1.reset_index()\n",
    "df1.head()\n"
   ]
  },
  {
   "cell_type": "code",
   "execution_count": 215,
   "metadata": {},
   "outputs": [
    {
     "data": {
      "text/html": [
       "<div>\n",
       "<style scoped>\n",
       "    .dataframe tbody tr th:only-of-type {\n",
       "        vertical-align: middle;\n",
       "    }\n",
       "\n",
       "    .dataframe tbody tr th {\n",
       "        vertical-align: top;\n",
       "    }\n",
       "\n",
       "    .dataframe thead th {\n",
       "        text-align: right;\n",
       "    }\n",
       "</style>\n",
       "<table border=\"1\" class=\"dataframe\">\n",
       "  <thead>\n",
       "    <tr style=\"text-align: right;\">\n",
       "      <th></th>\n",
       "      <th>created_at</th>\n",
       "      <th>Sentiment</th>\n",
       "      <th>Unnamed: 0</th>\n",
       "      <th>Count</th>\n",
       "    </tr>\n",
       "  </thead>\n",
       "  <tbody>\n",
       "    <tr>\n",
       "      <th>1</th>\n",
       "      <td>04-19</td>\n",
       "      <td>positive</td>\n",
       "      <td>30</td>\n",
       "      <td>30</td>\n",
       "    </tr>\n",
       "    <tr>\n",
       "      <th>3</th>\n",
       "      <td>04-20</td>\n",
       "      <td>positive</td>\n",
       "      <td>221</td>\n",
       "      <td>221</td>\n",
       "    </tr>\n",
       "    <tr>\n",
       "      <th>5</th>\n",
       "      <td>04-21</td>\n",
       "      <td>positive</td>\n",
       "      <td>439</td>\n",
       "      <td>439</td>\n",
       "    </tr>\n",
       "    <tr>\n",
       "      <th>7</th>\n",
       "      <td>04-22</td>\n",
       "      <td>positive</td>\n",
       "      <td>235</td>\n",
       "      <td>235</td>\n",
       "    </tr>\n",
       "    <tr>\n",
       "      <th>9</th>\n",
       "      <td>04-23</td>\n",
       "      <td>positive</td>\n",
       "      <td>345</td>\n",
       "      <td>345</td>\n",
       "    </tr>\n",
       "  </tbody>\n",
       "</table>\n",
       "</div>"
      ],
      "text/plain": [
       "  created_at Sentiment  Unnamed: 0  Count\n",
       "1      04-19  positive          30     30\n",
       "3      04-20  positive         221    221\n",
       "5      04-21  positive         439    439\n",
       "7      04-22  positive         235    235\n",
       "9      04-23  positive         345    345"
      ]
     },
     "execution_count": 215,
     "metadata": {},
     "output_type": "execute_result"
    }
   ],
   "source": [
    "df2.head()"
   ]
  },
  {
   "cell_type": "code",
   "execution_count": null,
   "metadata": {},
   "outputs": [],
   "source": []
  },
  {
   "cell_type": "code",
   "execution_count": 216,
   "metadata": {},
   "outputs": [
    {
     "data": {
      "text/html": [
       "<div>\n",
       "<style scoped>\n",
       "    .dataframe tbody tr th:only-of-type {\n",
       "        vertical-align: middle;\n",
       "    }\n",
       "\n",
       "    .dataframe tbody tr th {\n",
       "        vertical-align: top;\n",
       "    }\n",
       "\n",
       "    .dataframe thead th {\n",
       "        text-align: right;\n",
       "    }\n",
       "</style>\n",
       "<table border=\"1\" class=\"dataframe\">\n",
       "  <thead>\n",
       "    <tr style=\"text-align: right;\">\n",
       "      <th></th>\n",
       "      <th>created_at</th>\n",
       "      <th>Count</th>\n",
       "    </tr>\n",
       "  </thead>\n",
       "  <tbody>\n",
       "    <tr>\n",
       "      <th>0</th>\n",
       "      <td>04-19</td>\n",
       "      <td>42</td>\n",
       "    </tr>\n",
       "    <tr>\n",
       "      <th>1</th>\n",
       "      <td>04-20</td>\n",
       "      <td>329</td>\n",
       "    </tr>\n",
       "    <tr>\n",
       "      <th>2</th>\n",
       "      <td>04-21</td>\n",
       "      <td>489</td>\n",
       "    </tr>\n",
       "    <tr>\n",
       "      <th>3</th>\n",
       "      <td>04-22</td>\n",
       "      <td>335</td>\n",
       "    </tr>\n",
       "    <tr>\n",
       "      <th>4</th>\n",
       "      <td>04-23</td>\n",
       "      <td>365</td>\n",
       "    </tr>\n",
       "  </tbody>\n",
       "</table>\n",
       "</div>"
      ],
      "text/plain": [
       "  created_at  Count\n",
       "0      04-19     42\n",
       "1      04-20    329\n",
       "2      04-21    489\n",
       "3      04-22    335\n",
       "4      04-23    365"
      ]
     },
     "execution_count": 216,
     "metadata": {},
     "output_type": "execute_result"
    }
   ],
   "source": [
    "total_data_pd=pd.DataFrame(total_tweet)\n",
    "total_data_pd=data_pd[[\"text\",\"created_at\"]]\n",
    "total_data_pd.head(10)\n",
    "total_tweet_df = pd.DataFrame(total_data_pd.groupby([\"created_at\"]).count()).reset_index()\n",
    "total_tweet_df.rename(columns = {'text': 'Count'}, inplace = True)\n",
    "total_tweet_df.sort_values(by=['created_at'])\n",
    "\n",
    "total_tweet_df.head()\n"
   ]
  },
  {
   "cell_type": "code",
   "execution_count": 217,
   "metadata": {},
   "outputs": [
    {
     "data": {
      "image/png": "[encoded data removed]",
      "text/plain": [
       "<Figure size 432x288 with 1 Axes>"
      ]
     },
     "metadata": {},
     "output_type": "display_data"
    }
   ],
   "source": [
    "import numpy as np\n",
    "y=total_tweet_df['Count'].tolist()\n",
    "x = total_tweet_df['created_at'].tolist()\n",
    "plt.ylabel(\"Count\")\n",
    "plt.xlabel(\"Dates\")\n",
    "plt.plot(x,y)\n",
    "plt.show()\n"
   ]
  },
  {
   "cell_type": "code",
   "execution_count": 218,
   "metadata": {},
   "outputs": [
    {
     "data": {
      "image/png": "[encoded data removed]",
      "text/plain": [
       "<Figure size 432x288 with 1 Axes>"
      ]
     },
     "metadata": {},
     "output_type": "display_data"
    }
   ],
   "source": [
    "y2=df1['Count'].tolist()\n",
    "y1=df2['Count'].tolist()\n",
    "x = df1['created_at'].tolist()\n",
    "\n",
    "# multiple line plot\n",
    "plt.plot(x,y1)\n",
    "plt.plot(x,y2)\n",
    "plt.ylabel(\"Count\")\n",
    "plt.xlabel(\"Dates\")\n",
    "plt.savefig(\"Flow_basedondates_Positive_Negative_WFH.png\")"
   ]
  },
  {
   "cell_type": "code",
   "execution_count": 219,
   "metadata": {},
   "outputs": [
    {
     "name": "stdout",
     "output_type": "stream",
     "text": [
      "Analysis 2:\n",
      " \n",
      "\n",
      "People are more positive working from based on tweets collected on differnt dates. Blue line shows positive comments people \n",
      "have for working from home and Orange shows negative tweets.\n"
     ]
    }
   ],
   "source": [
    "print('Analysis 2:\\n \\n')\n",
    "print(\"People are more positive working from based on tweets collected on differnt dates. Blue line shows positive comments people \\nhave for working from home and Orange shows negative tweets.\")\n"
   ]
  },
  {
   "cell_type": "code",
   "execution_count": null,
   "metadata": {},
   "outputs": [],
   "source": []
  }
 ],
 "metadata": {
  "kernelspec": {
   "display_name": "Python 3",
   "language": "python",
   "name": "python3"
  },
  "language_info": {
   "codemirror_mode": {
    "name": "ipython",
    "version": 3
   },
   "file_extension": ".py",
   "mimetype": "text/x-python",
   "name": "python",
   "nbconvert_exporter": "python",
   "pygments_lexer": "ipython3",
   "version": "3.6.5"
  }
 },
 "nbformat": 4,
 "nbformat_minor": 2
}
